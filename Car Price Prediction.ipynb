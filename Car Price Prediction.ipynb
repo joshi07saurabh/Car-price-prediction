{
 "cells": [
  {
   "cell_type": "code",
   "execution_count": 1,
   "metadata": {},
   "outputs": [],
   "source": [
    "import numpy as np\n",
    "import pandas as pd\n"
   ]
  },
  {
   "cell_type": "code",
   "execution_count": 2,
   "metadata": {},
   "outputs": [],
   "source": [
    "car=pd.read_csv(r\"C:\\Users\\SAURABH\\Desktop\\datasets3.csv\")"
   ]
  },
  {
   "cell_type": "code",
   "execution_count": 3,
   "metadata": {},
   "outputs": [
    {
     "data": {
      "text/html": [
       "<div>\n",
       "<style scoped>\n",
       "    .dataframe tbody tr th:only-of-type {\n",
       "        vertical-align: middle;\n",
       "    }\n",
       "\n",
       "    .dataframe tbody tr th {\n",
       "        vertical-align: top;\n",
       "    }\n",
       "\n",
       "    .dataframe thead th {\n",
       "        text-align: right;\n",
       "    }\n",
       "</style>\n",
       "<table border=\"1\" class=\"dataframe\">\n",
       "  <thead>\n",
       "    <tr style=\"text-align: right;\">\n",
       "      <th></th>\n",
       "      <th>Distance(km)</th>\n",
       "      <th>Fuel Type</th>\n",
       "      <th>Location</th>\n",
       "      <th>Manufacturing Year</th>\n",
       "      <th>Price in INR</th>\n",
       "      <th>Make</th>\n",
       "      <th>Model</th>\n",
       "    </tr>\n",
       "  </thead>\n",
       "  <tbody>\n",
       "    <tr>\n",
       "      <th>0</th>\n",
       "      <td>48200.0</td>\n",
       "      <td>Diesel</td>\n",
       "      <td>NaN</td>\n",
       "      <td>2016.0</td>\n",
       "      <td>3200000.0</td>\n",
       "      <td>Audi</td>\n",
       "      <td>Q3 35 TDI Technology</td>\n",
       "    </tr>\n",
       "    <tr>\n",
       "      <th>1</th>\n",
       "      <td>55310.0</td>\n",
       "      <td>Diesel</td>\n",
       "      <td>Mumbai</td>\n",
       "      <td>2013.0</td>\n",
       "      <td>245000.0</td>\n",
       "      <td>Audi</td>\n",
       "      <td>Q3 2.0 TDI quattro</td>\n",
       "    </tr>\n",
       "    <tr>\n",
       "      <th>2</th>\n",
       "      <td>30120.0</td>\n",
       "      <td>Diesel</td>\n",
       "      <td>Nadia</td>\n",
       "      <td>2013.0</td>\n",
       "      <td>255000.0</td>\n",
       "      <td>Audi</td>\n",
       "      <td>Q3 2.0 TDI quattro</td>\n",
       "    </tr>\n",
       "    <tr>\n",
       "      <th>3</th>\n",
       "      <td>98000.0</td>\n",
       "      <td>Diesel</td>\n",
       "      <td>New Delhi</td>\n",
       "      <td>2011.0</td>\n",
       "      <td>249900.0</td>\n",
       "      <td>Audi</td>\n",
       "      <td>A8 L- 2013 3.0 TDI quattro</td>\n",
       "    </tr>\n",
       "    <tr>\n",
       "      <th>4</th>\n",
       "      <td>42000.0</td>\n",
       "      <td>Diesel</td>\n",
       "      <td>New Delhi</td>\n",
       "      <td>2009.0</td>\n",
       "      <td>220000.0</td>\n",
       "      <td>Audi</td>\n",
       "      <td>A8 (2003 - 2010) 3.0 TDi</td>\n",
       "    </tr>\n",
       "  </tbody>\n",
       "</table>\n",
       "</div>"
      ],
      "text/plain": [
       "   Distance(km)   Fuel Type        Location  Manufacturing Year  Price in INR  \\\n",
       "0       48200.0      Diesel             NaN              2016.0     3200000.0   \n",
       "1       55310.0    Diesel          Mumbai                2013.0      245000.0   \n",
       "2       30120.0    Diesel           Nadia                2013.0      255000.0   \n",
       "3       98000.0    Diesel       New Delhi                2011.0      249900.0   \n",
       "4       42000.0    Diesel       New Delhi                2009.0      220000.0   \n",
       "\n",
       "   Make                       Model  \n",
       "0  Audi        Q3 35 TDI Technology  \n",
       "1  Audi          Q3 2.0 TDI quattro  \n",
       "2  Audi          Q3 2.0 TDI quattro  \n",
       "3  Audi  A8 L- 2013 3.0 TDI quattro  \n",
       "4  Audi    A8 (2003 - 2010) 3.0 TDi  "
      ]
     },
     "execution_count": 3,
     "metadata": {},
     "output_type": "execute_result"
    }
   ],
   "source": [
    "car.head()"
   ]
  },
  {
   "cell_type": "code",
   "execution_count": 4,
   "metadata": {},
   "outputs": [
    {
     "data": {
      "text/plain": [
       "Distance(km)             0\n",
       "Fuel Type                0\n",
       "Location              7490\n",
       "Manufacturing Year       0\n",
       "Price in INR             0\n",
       "Make                     0\n",
       "Model                   18\n",
       "dtype: int64"
      ]
     },
     "execution_count": 4,
     "metadata": {},
     "output_type": "execute_result"
    }
   ],
   "source": [
    "car.isnull().sum()"
   ]
  },
  {
   "cell_type": "code",
   "execution_count": 5,
   "metadata": {},
   "outputs": [],
   "source": [
    "car=car.drop(\"Location\",axis=1)"
   ]
  },
  {
   "cell_type": "code",
   "execution_count": 6,
   "metadata": {},
   "outputs": [
    {
     "data": {
      "text/html": [
       "<div>\n",
       "<style scoped>\n",
       "    .dataframe tbody tr th:only-of-type {\n",
       "        vertical-align: middle;\n",
       "    }\n",
       "\n",
       "    .dataframe tbody tr th {\n",
       "        vertical-align: top;\n",
       "    }\n",
       "\n",
       "    .dataframe thead th {\n",
       "        text-align: right;\n",
       "    }\n",
       "</style>\n",
       "<table border=\"1\" class=\"dataframe\">\n",
       "  <thead>\n",
       "    <tr style=\"text-align: right;\">\n",
       "      <th></th>\n",
       "      <th>Distance(km)</th>\n",
       "      <th>Fuel Type</th>\n",
       "      <th>Manufacturing Year</th>\n",
       "      <th>Price in INR</th>\n",
       "      <th>Make</th>\n",
       "      <th>Model</th>\n",
       "    </tr>\n",
       "  </thead>\n",
       "  <tbody>\n",
       "    <tr>\n",
       "      <th>0</th>\n",
       "      <td>48200.0</td>\n",
       "      <td>Diesel</td>\n",
       "      <td>2016.0</td>\n",
       "      <td>3200000.0</td>\n",
       "      <td>Audi</td>\n",
       "      <td>Q3 35 TDI Technology</td>\n",
       "    </tr>\n",
       "    <tr>\n",
       "      <th>1</th>\n",
       "      <td>55310.0</td>\n",
       "      <td>Diesel</td>\n",
       "      <td>2013.0</td>\n",
       "      <td>245000.0</td>\n",
       "      <td>Audi</td>\n",
       "      <td>Q3 2.0 TDI quattro</td>\n",
       "    </tr>\n",
       "    <tr>\n",
       "      <th>2</th>\n",
       "      <td>30120.0</td>\n",
       "      <td>Diesel</td>\n",
       "      <td>2013.0</td>\n",
       "      <td>255000.0</td>\n",
       "      <td>Audi</td>\n",
       "      <td>Q3 2.0 TDI quattro</td>\n",
       "    </tr>\n",
       "    <tr>\n",
       "      <th>3</th>\n",
       "      <td>98000.0</td>\n",
       "      <td>Diesel</td>\n",
       "      <td>2011.0</td>\n",
       "      <td>249900.0</td>\n",
       "      <td>Audi</td>\n",
       "      <td>A8 L- 2013 3.0 TDI quattro</td>\n",
       "    </tr>\n",
       "    <tr>\n",
       "      <th>4</th>\n",
       "      <td>42000.0</td>\n",
       "      <td>Diesel</td>\n",
       "      <td>2009.0</td>\n",
       "      <td>220000.0</td>\n",
       "      <td>Audi</td>\n",
       "      <td>A8 (2003 - 2010) 3.0 TDi</td>\n",
       "    </tr>\n",
       "  </tbody>\n",
       "</table>\n",
       "</div>"
      ],
      "text/plain": [
       "   Distance(km)   Fuel Type  Manufacturing Year  Price in INR  Make  \\\n",
       "0       48200.0      Diesel              2016.0     3200000.0  Audi   \n",
       "1       55310.0    Diesel                2013.0      245000.0  Audi   \n",
       "2       30120.0    Diesel                2013.0      255000.0  Audi   \n",
       "3       98000.0    Diesel                2011.0      249900.0  Audi   \n",
       "4       42000.0    Diesel                2009.0      220000.0  Audi   \n",
       "\n",
       "                        Model  \n",
       "0        Q3 35 TDI Technology  \n",
       "1          Q3 2.0 TDI quattro  \n",
       "2          Q3 2.0 TDI quattro  \n",
       "3  A8 L- 2013 3.0 TDI quattro  \n",
       "4    A8 (2003 - 2010) 3.0 TDi  "
      ]
     },
     "execution_count": 6,
     "metadata": {},
     "output_type": "execute_result"
    }
   ],
   "source": [
    "car.head()"
   ]
  },
  {
   "cell_type": "code",
   "execution_count": 7,
   "metadata": {},
   "outputs": [
    {
     "data": {
      "text/plain": [
       "Distance(km)           0\n",
       "Fuel Type              0\n",
       "Manufacturing Year     0\n",
       "Price in INR           0\n",
       "Make                   0\n",
       "Model                 18\n",
       "dtype: int64"
      ]
     },
     "execution_count": 7,
     "metadata": {},
     "output_type": "execute_result"
    }
   ],
   "source": [
    "car.isnull().sum()"
   ]
  },
  {
   "cell_type": "code",
   "execution_count": 8,
   "metadata": {},
   "outputs": [],
   "source": [
    "car=car[~car[\"Model\"].isna()]"
   ]
  },
  {
   "cell_type": "code",
   "execution_count": 9,
   "metadata": {},
   "outputs": [
    {
     "data": {
      "text/plain": [
       "Distance(km)          0\n",
       "Fuel Type             0\n",
       "Manufacturing Year    0\n",
       "Price in INR          0\n",
       "Make                  0\n",
       "Model                 0\n",
       "dtype: int64"
      ]
     },
     "execution_count": 9,
     "metadata": {},
     "output_type": "execute_result"
    }
   ],
   "source": [
    "car.isnull().sum()"
   ]
  },
  {
   "cell_type": "code",
   "execution_count": 10,
   "metadata": {},
   "outputs": [
    {
     "data": {
      "text/plain": [
       "<bound method DataFrame.info of        Distance(km)   Fuel Type  Manufacturing Year  Price in INR   Make  \\\n",
       "0           48200.0      Diesel              2016.0     3200000.0   Audi   \n",
       "1           55310.0    Diesel                2013.0      245000.0   Audi   \n",
       "2           30120.0    Diesel                2013.0      255000.0   Audi   \n",
       "3           98000.0    Diesel                2011.0      249900.0   Audi   \n",
       "4           42000.0    Diesel                2009.0      220000.0   Audi   \n",
       "...             ...         ...                 ...           ...    ...   \n",
       "17275      120000.0      Diesel              2012.0     1650000.0  Volvo   \n",
       "17276       21937.0    Diesel                2013.0      330000.0  Volvo   \n",
       "17277       45000.0    Diesel                2015.0      570000.0  Volvo   \n",
       "17278      105659.0    Diesel                2007.0      200000.0  Volvo   \n",
       "17279       55000.0    Diesel                2013.0      240000.0  Volvo   \n",
       "\n",
       "                            Model  \n",
       "0            Q3 35 TDI Technology  \n",
       "1              Q3 2.0 TDI quattro  \n",
       "2              Q3 2.0 TDI quattro  \n",
       "3      A8 L- 2013 3.0 TDI quattro  \n",
       "4        A8 (2003 - 2010) 3.0 TDi  \n",
       "...                           ...  \n",
       "17275                 XC90 D5 AWD  \n",
       "17276                 XC90 D5 AWD  \n",
       "17277            XC90 D5 Momentum  \n",
       "17278     XC90 [2007-2015] D5 AWD  \n",
       "17279             XC60 Kinetic D4  \n",
       "\n",
       "[17262 rows x 6 columns]>"
      ]
     },
     "execution_count": 10,
     "metadata": {},
     "output_type": "execute_result"
    }
   ],
   "source": [
    "car.info"
   ]
  },
  {
   "cell_type": "code",
   "execution_count": 11,
   "metadata": {},
   "outputs": [
    {
     "data": {
      "text/plain": [
       "<bound method Series.unique of 0        3200000.0\n",
       "1         245000.0\n",
       "2         255000.0\n",
       "3         249900.0\n",
       "4         220000.0\n",
       "           ...    \n",
       "17275    1650000.0\n",
       "17276     330000.0\n",
       "17277     570000.0\n",
       "17278     200000.0\n",
       "17279     240000.0\n",
       "Name: Price in INR, Length: 17262, dtype: float64>"
      ]
     },
     "execution_count": 11,
     "metadata": {},
     "output_type": "execute_result"
    }
   ],
   "source": [
    "car[\"Price in INR\"].unique"
   ]
  },
  {
   "cell_type": "code",
   "execution_count": 12,
   "metadata": {},
   "outputs": [],
   "source": [
    "car[\"Manufacturing Year\"]=car[\"Manufacturing Year\"].astype(int)"
   ]
  },
  {
   "cell_type": "code",
   "execution_count": 13,
   "metadata": {},
   "outputs": [
    {
     "data": {
      "text/plain": [
       "<bound method Series.unique of 0        2016\n",
       "1        2013\n",
       "2        2013\n",
       "3        2011\n",
       "4        2009\n",
       "         ... \n",
       "17275    2012\n",
       "17276    2013\n",
       "17277    2015\n",
       "17278    2007\n",
       "17279    2013\n",
       "Name: Manufacturing Year, Length: 17262, dtype: int32>"
      ]
     },
     "execution_count": 13,
     "metadata": {},
     "output_type": "execute_result"
    }
   ],
   "source": [
    "car[\"Manufacturing Year\"].unique"
   ]
  },
  {
   "cell_type": "code",
   "execution_count": 14,
   "metadata": {},
   "outputs": [
    {
     "data": {
      "text/plain": [
       "<bound method Series.unique of 0         48200.0\n",
       "1         55310.0\n",
       "2         30120.0\n",
       "3         98000.0\n",
       "4         42000.0\n",
       "           ...   \n",
       "17275    120000.0\n",
       "17276     21937.0\n",
       "17277     45000.0\n",
       "17278    105659.0\n",
       "17279     55000.0\n",
       "Name: Distance(km), Length: 17262, dtype: float64>"
      ]
     },
     "execution_count": 14,
     "metadata": {},
     "output_type": "execute_result"
    }
   ],
   "source": [
    "car[\"Distance(km)\"].unique"
   ]
  },
  {
   "cell_type": "code",
   "execution_count": 15,
   "metadata": {},
   "outputs": [
    {
     "data": {
      "text/plain": [
       "Distance(km)          0\n",
       "Fuel Type             0\n",
       "Manufacturing Year    0\n",
       "Price in INR          0\n",
       "Make                  0\n",
       "Model                 0\n",
       "dtype: int64"
      ]
     },
     "execution_count": 15,
     "metadata": {},
     "output_type": "execute_result"
    }
   ],
   "source": [
    "car.isnull().sum()"
   ]
  },
  {
   "cell_type": "code",
   "execution_count": 16,
   "metadata": {},
   "outputs": [
    {
     "data": {
      "text/html": [
       "<div>\n",
       "<style scoped>\n",
       "    .dataframe tbody tr th:only-of-type {\n",
       "        vertical-align: middle;\n",
       "    }\n",
       "\n",
       "    .dataframe tbody tr th {\n",
       "        vertical-align: top;\n",
       "    }\n",
       "\n",
       "    .dataframe thead th {\n",
       "        text-align: right;\n",
       "    }\n",
       "</style>\n",
       "<table border=\"1\" class=\"dataframe\">\n",
       "  <thead>\n",
       "    <tr style=\"text-align: right;\">\n",
       "      <th></th>\n",
       "      <th>Distance(km)</th>\n",
       "      <th>Fuel Type</th>\n",
       "      <th>Manufacturing Year</th>\n",
       "      <th>Price in INR</th>\n",
       "      <th>Make</th>\n",
       "      <th>Model</th>\n",
       "    </tr>\n",
       "  </thead>\n",
       "  <tbody>\n",
       "    <tr>\n",
       "      <th>0</th>\n",
       "      <td>48200.0</td>\n",
       "      <td>Diesel</td>\n",
       "      <td>2016</td>\n",
       "      <td>3200000.0</td>\n",
       "      <td>Audi</td>\n",
       "      <td>Q3 35 TDI Technology</td>\n",
       "    </tr>\n",
       "    <tr>\n",
       "      <th>1</th>\n",
       "      <td>55310.0</td>\n",
       "      <td>Diesel</td>\n",
       "      <td>2013</td>\n",
       "      <td>245000.0</td>\n",
       "      <td>Audi</td>\n",
       "      <td>Q3 2.0 TDI quattro</td>\n",
       "    </tr>\n",
       "    <tr>\n",
       "      <th>2</th>\n",
       "      <td>30120.0</td>\n",
       "      <td>Diesel</td>\n",
       "      <td>2013</td>\n",
       "      <td>255000.0</td>\n",
       "      <td>Audi</td>\n",
       "      <td>Q3 2.0 TDI quattro</td>\n",
       "    </tr>\n",
       "    <tr>\n",
       "      <th>3</th>\n",
       "      <td>98000.0</td>\n",
       "      <td>Diesel</td>\n",
       "      <td>2011</td>\n",
       "      <td>249900.0</td>\n",
       "      <td>Audi</td>\n",
       "      <td>A8 L- 2013 3.0 TDI quattro</td>\n",
       "    </tr>\n",
       "    <tr>\n",
       "      <th>4</th>\n",
       "      <td>42000.0</td>\n",
       "      <td>Diesel</td>\n",
       "      <td>2009</td>\n",
       "      <td>220000.0</td>\n",
       "      <td>Audi</td>\n",
       "      <td>A8 (2003 - 2010) 3.0 TDi</td>\n",
       "    </tr>\n",
       "    <tr>\n",
       "      <th>...</th>\n",
       "      <td>...</td>\n",
       "      <td>...</td>\n",
       "      <td>...</td>\n",
       "      <td>...</td>\n",
       "      <td>...</td>\n",
       "      <td>...</td>\n",
       "    </tr>\n",
       "    <tr>\n",
       "      <th>17257</th>\n",
       "      <td>120000.0</td>\n",
       "      <td>Diesel</td>\n",
       "      <td>2012</td>\n",
       "      <td>1650000.0</td>\n",
       "      <td>Volvo</td>\n",
       "      <td>XC90 D5 AWD</td>\n",
       "    </tr>\n",
       "    <tr>\n",
       "      <th>17258</th>\n",
       "      <td>21937.0</td>\n",
       "      <td>Diesel</td>\n",
       "      <td>2013</td>\n",
       "      <td>330000.0</td>\n",
       "      <td>Volvo</td>\n",
       "      <td>XC90 D5 AWD</td>\n",
       "    </tr>\n",
       "    <tr>\n",
       "      <th>17259</th>\n",
       "      <td>45000.0</td>\n",
       "      <td>Diesel</td>\n",
       "      <td>2015</td>\n",
       "      <td>570000.0</td>\n",
       "      <td>Volvo</td>\n",
       "      <td>XC90 D5 Momentum</td>\n",
       "    </tr>\n",
       "    <tr>\n",
       "      <th>17260</th>\n",
       "      <td>105659.0</td>\n",
       "      <td>Diesel</td>\n",
       "      <td>2007</td>\n",
       "      <td>200000.0</td>\n",
       "      <td>Volvo</td>\n",
       "      <td>XC90 [2007-2015] D5 AWD</td>\n",
       "    </tr>\n",
       "    <tr>\n",
       "      <th>17261</th>\n",
       "      <td>55000.0</td>\n",
       "      <td>Diesel</td>\n",
       "      <td>2013</td>\n",
       "      <td>240000.0</td>\n",
       "      <td>Volvo</td>\n",
       "      <td>XC60 Kinetic D4</td>\n",
       "    </tr>\n",
       "  </tbody>\n",
       "</table>\n",
       "<p>17262 rows × 6 columns</p>\n",
       "</div>"
      ],
      "text/plain": [
       "       Distance(km)   Fuel Type  Manufacturing Year  Price in INR   Make  \\\n",
       "0           48200.0      Diesel                2016     3200000.0   Audi   \n",
       "1           55310.0    Diesel                  2013      245000.0   Audi   \n",
       "2           30120.0    Diesel                  2013      255000.0   Audi   \n",
       "3           98000.0    Diesel                  2011      249900.0   Audi   \n",
       "4           42000.0    Diesel                  2009      220000.0   Audi   \n",
       "...             ...         ...                 ...           ...    ...   \n",
       "17257      120000.0      Diesel                2012     1650000.0  Volvo   \n",
       "17258       21937.0    Diesel                  2013      330000.0  Volvo   \n",
       "17259       45000.0    Diesel                  2015      570000.0  Volvo   \n",
       "17260      105659.0    Diesel                  2007      200000.0  Volvo   \n",
       "17261       55000.0    Diesel                  2013      240000.0  Volvo   \n",
       "\n",
       "                            Model  \n",
       "0            Q3 35 TDI Technology  \n",
       "1              Q3 2.0 TDI quattro  \n",
       "2              Q3 2.0 TDI quattro  \n",
       "3      A8 L- 2013 3.0 TDI quattro  \n",
       "4        A8 (2003 - 2010) 3.0 TDi  \n",
       "...                           ...  \n",
       "17257                 XC90 D5 AWD  \n",
       "17258                 XC90 D5 AWD  \n",
       "17259            XC90 D5 Momentum  \n",
       "17260     XC90 [2007-2015] D5 AWD  \n",
       "17261             XC60 Kinetic D4  \n",
       "\n",
       "[17262 rows x 6 columns]"
      ]
     },
     "execution_count": 16,
     "metadata": {},
     "output_type": "execute_result"
    }
   ],
   "source": [
    "car.reset_index(drop=True)"
   ]
  },
  {
   "cell_type": "code",
   "execution_count": 17,
   "metadata": {},
   "outputs": [
    {
     "data": {
      "text/html": [
       "<div>\n",
       "<style scoped>\n",
       "    .dataframe tbody tr th:only-of-type {\n",
       "        vertical-align: middle;\n",
       "    }\n",
       "\n",
       "    .dataframe tbody tr th {\n",
       "        vertical-align: top;\n",
       "    }\n",
       "\n",
       "    .dataframe thead th {\n",
       "        text-align: right;\n",
       "    }\n",
       "</style>\n",
       "<table border=\"1\" class=\"dataframe\">\n",
       "  <thead>\n",
       "    <tr style=\"text-align: right;\">\n",
       "      <th></th>\n",
       "      <th>Distance(km)</th>\n",
       "      <th>Manufacturing Year</th>\n",
       "      <th>Price in INR</th>\n",
       "    </tr>\n",
       "  </thead>\n",
       "  <tbody>\n",
       "    <tr>\n",
       "      <th>count</th>\n",
       "      <td>1.726200e+04</td>\n",
       "      <td>17262.000000</td>\n",
       "      <td>1.726200e+04</td>\n",
       "    </tr>\n",
       "    <tr>\n",
       "      <th>mean</th>\n",
       "      <td>6.704085e+04</td>\n",
       "      <td>2011.800602</td>\n",
       "      <td>9.896819e+06</td>\n",
       "    </tr>\n",
       "    <tr>\n",
       "      <th>std</th>\n",
       "      <td>7.226449e+04</td>\n",
       "      <td>3.043661</td>\n",
       "      <td>8.868804e+07</td>\n",
       "    </tr>\n",
       "    <tr>\n",
       "      <th>min</th>\n",
       "      <td>0.000000e+00</td>\n",
       "      <td>1998.000000</td>\n",
       "      <td>1.020000e+04</td>\n",
       "    </tr>\n",
       "    <tr>\n",
       "      <th>25%</th>\n",
       "      <td>3.776450e+04</td>\n",
       "      <td>2010.000000</td>\n",
       "      <td>3.600000e+04</td>\n",
       "    </tr>\n",
       "    <tr>\n",
       "      <th>50%</th>\n",
       "      <td>5.944200e+04</td>\n",
       "      <td>2012.000000</td>\n",
       "      <td>7.600000e+04</td>\n",
       "    </tr>\n",
       "    <tr>\n",
       "      <th>75%</th>\n",
       "      <td>8.355300e+04</td>\n",
       "      <td>2014.000000</td>\n",
       "      <td>2.350000e+05</td>\n",
       "    </tr>\n",
       "    <tr>\n",
       "      <th>max</th>\n",
       "      <td>7.175673e+06</td>\n",
       "      <td>2019.000000</td>\n",
       "      <td>1.000000e+09</td>\n",
       "    </tr>\n",
       "  </tbody>\n",
       "</table>\n",
       "</div>"
      ],
      "text/plain": [
       "       Distance(km)  Manufacturing Year  Price in INR\n",
       "count  1.726200e+04        17262.000000  1.726200e+04\n",
       "mean   6.704085e+04         2011.800602  9.896819e+06\n",
       "std    7.226449e+04            3.043661  8.868804e+07\n",
       "min    0.000000e+00         1998.000000  1.020000e+04\n",
       "25%    3.776450e+04         2010.000000  3.600000e+04\n",
       "50%    5.944200e+04         2012.000000  7.600000e+04\n",
       "75%    8.355300e+04         2014.000000  2.350000e+05\n",
       "max    7.175673e+06         2019.000000  1.000000e+09"
      ]
     },
     "execution_count": 17,
     "metadata": {},
     "output_type": "execute_result"
    }
   ],
   "source": [
    "car.describe()"
   ]
  },
  {
   "cell_type": "code",
   "execution_count": 18,
   "metadata": {},
   "outputs": [],
   "source": [
    "car=car[car[\"Price in INR\"]<6e5].reset_index(drop=True)"
   ]
  },
  {
   "cell_type": "code",
   "execution_count": 19,
   "metadata": {},
   "outputs": [
    {
     "data": {
      "text/html": [
       "<div>\n",
       "<style scoped>\n",
       "    .dataframe tbody tr th:only-of-type {\n",
       "        vertical-align: middle;\n",
       "    }\n",
       "\n",
       "    .dataframe tbody tr th {\n",
       "        vertical-align: top;\n",
       "    }\n",
       "\n",
       "    .dataframe thead th {\n",
       "        text-align: right;\n",
       "    }\n",
       "</style>\n",
       "<table border=\"1\" class=\"dataframe\">\n",
       "  <thead>\n",
       "    <tr style=\"text-align: right;\">\n",
       "      <th></th>\n",
       "      <th>Distance(km)</th>\n",
       "      <th>Fuel Type</th>\n",
       "      <th>Manufacturing Year</th>\n",
       "      <th>Price in INR</th>\n",
       "      <th>Make</th>\n",
       "      <th>Model</th>\n",
       "    </tr>\n",
       "  </thead>\n",
       "  <tbody>\n",
       "    <tr>\n",
       "      <th>0</th>\n",
       "      <td>55310.0</td>\n",
       "      <td>Diesel</td>\n",
       "      <td>2013</td>\n",
       "      <td>245000.0</td>\n",
       "      <td>Audi</td>\n",
       "      <td>Q3 2.0 TDI quattro</td>\n",
       "    </tr>\n",
       "    <tr>\n",
       "      <th>1</th>\n",
       "      <td>30120.0</td>\n",
       "      <td>Diesel</td>\n",
       "      <td>2013</td>\n",
       "      <td>255000.0</td>\n",
       "      <td>Audi</td>\n",
       "      <td>Q3 2.0 TDI quattro</td>\n",
       "    </tr>\n",
       "    <tr>\n",
       "      <th>2</th>\n",
       "      <td>98000.0</td>\n",
       "      <td>Diesel</td>\n",
       "      <td>2011</td>\n",
       "      <td>249900.0</td>\n",
       "      <td>Audi</td>\n",
       "      <td>A8 L- 2013 3.0 TDI quattro</td>\n",
       "    </tr>\n",
       "    <tr>\n",
       "      <th>3</th>\n",
       "      <td>42000.0</td>\n",
       "      <td>Diesel</td>\n",
       "      <td>2009</td>\n",
       "      <td>220000.0</td>\n",
       "      <td>Audi</td>\n",
       "      <td>A8 (2003 - 2010) 3.0 TDi</td>\n",
       "    </tr>\n",
       "    <tr>\n",
       "      <th>4</th>\n",
       "      <td>41000.0</td>\n",
       "      <td>Diesel</td>\n",
       "      <td>2009</td>\n",
       "      <td>265000.0</td>\n",
       "      <td>Audi</td>\n",
       "      <td>A8 (2003 - 2010) 3.0 TDi</td>\n",
       "    </tr>\n",
       "  </tbody>\n",
       "</table>\n",
       "</div>"
      ],
      "text/plain": [
       "   Distance(km)   Fuel Type  Manufacturing Year  Price in INR  Make  \\\n",
       "0       55310.0    Diesel                  2013      245000.0  Audi   \n",
       "1       30120.0    Diesel                  2013      255000.0  Audi   \n",
       "2       98000.0    Diesel                  2011      249900.0  Audi   \n",
       "3       42000.0    Diesel                  2009      220000.0  Audi   \n",
       "4       41000.0    Diesel                  2009      265000.0  Audi   \n",
       "\n",
       "                        Model  \n",
       "0          Q3 2.0 TDI quattro  \n",
       "1          Q3 2.0 TDI quattro  \n",
       "2  A8 L- 2013 3.0 TDI quattro  \n",
       "3    A8 (2003 - 2010) 3.0 TDi  \n",
       "4    A8 (2003 - 2010) 3.0 TDi  "
      ]
     },
     "execution_count": 19,
     "metadata": {},
     "output_type": "execute_result"
    }
   ],
   "source": [
    "car.head()"
   ]
  },
  {
   "cell_type": "code",
   "execution_count": 20,
   "metadata": {},
   "outputs": [
    {
     "data": {
      "text/html": [
       "<div>\n",
       "<style scoped>\n",
       "    .dataframe tbody tr th:only-of-type {\n",
       "        vertical-align: middle;\n",
       "    }\n",
       "\n",
       "    .dataframe tbody tr th {\n",
       "        vertical-align: top;\n",
       "    }\n",
       "\n",
       "    .dataframe thead th {\n",
       "        text-align: right;\n",
       "    }\n",
       "</style>\n",
       "<table border=\"1\" class=\"dataframe\">\n",
       "  <thead>\n",
       "    <tr style=\"text-align: right;\">\n",
       "      <th></th>\n",
       "      <th>Distance(km)</th>\n",
       "      <th>Fuel Type</th>\n",
       "      <th>Manufacturing Year</th>\n",
       "      <th>Price in INR</th>\n",
       "      <th>Make</th>\n",
       "      <th>Model</th>\n",
       "    </tr>\n",
       "  </thead>\n",
       "  <tbody>\n",
       "    <tr>\n",
       "      <th>16522</th>\n",
       "      <td>20000.0</td>\n",
       "      <td>Diesel</td>\n",
       "      <td>2014</td>\n",
       "      <td>430000.0</td>\n",
       "      <td>Volvo</td>\n",
       "      <td>XC90 (2010-2015) D5 AWD</td>\n",
       "    </tr>\n",
       "    <tr>\n",
       "      <th>16523</th>\n",
       "      <td>21937.0</td>\n",
       "      <td>Diesel</td>\n",
       "      <td>2013</td>\n",
       "      <td>330000.0</td>\n",
       "      <td>Volvo</td>\n",
       "      <td>XC90 D5 AWD</td>\n",
       "    </tr>\n",
       "    <tr>\n",
       "      <th>16524</th>\n",
       "      <td>45000.0</td>\n",
       "      <td>Diesel</td>\n",
       "      <td>2015</td>\n",
       "      <td>570000.0</td>\n",
       "      <td>Volvo</td>\n",
       "      <td>XC90 D5 Momentum</td>\n",
       "    </tr>\n",
       "    <tr>\n",
       "      <th>16525</th>\n",
       "      <td>105659.0</td>\n",
       "      <td>Diesel</td>\n",
       "      <td>2007</td>\n",
       "      <td>200000.0</td>\n",
       "      <td>Volvo</td>\n",
       "      <td>XC90 [2007-2015] D5 AWD</td>\n",
       "    </tr>\n",
       "    <tr>\n",
       "      <th>16526</th>\n",
       "      <td>55000.0</td>\n",
       "      <td>Diesel</td>\n",
       "      <td>2013</td>\n",
       "      <td>240000.0</td>\n",
       "      <td>Volvo</td>\n",
       "      <td>XC60 Kinetic D4</td>\n",
       "    </tr>\n",
       "  </tbody>\n",
       "</table>\n",
       "</div>"
      ],
      "text/plain": [
       "       Distance(km)   Fuel Type  Manufacturing Year  Price in INR   Make  \\\n",
       "16522       20000.0    Diesel                  2014      430000.0  Volvo   \n",
       "16523       21937.0    Diesel                  2013      330000.0  Volvo   \n",
       "16524       45000.0    Diesel                  2015      570000.0  Volvo   \n",
       "16525      105659.0    Diesel                  2007      200000.0  Volvo   \n",
       "16526       55000.0    Diesel                  2013      240000.0  Volvo   \n",
       "\n",
       "                         Model  \n",
       "16522  XC90 (2010-2015) D5 AWD  \n",
       "16523              XC90 D5 AWD  \n",
       "16524         XC90 D5 Momentum  \n",
       "16525  XC90 [2007-2015] D5 AWD  \n",
       "16526          XC60 Kinetic D4  "
      ]
     },
     "execution_count": 20,
     "metadata": {},
     "output_type": "execute_result"
    }
   ],
   "source": [
    "car.tail()"
   ]
  },
  {
   "cell_type": "code",
   "execution_count": 21,
   "metadata": {},
   "outputs": [],
   "source": [
    "car.to_csv('clean_car.csv')"
   ]
  },
  {
   "cell_type": "markdown",
   "metadata": {},
   "source": [
    "# Model"
   ]
  },
  {
   "cell_type": "code",
   "execution_count": 22,
   "metadata": {},
   "outputs": [],
   "source": [
    "X=car.drop(columns=\"Price in INR\")\n",
    "y=car[\"Price in INR\"]"
   ]
  },
  {
   "cell_type": "code",
   "execution_count": 23,
   "metadata": {},
   "outputs": [],
   "source": [
    "from sklearn.model_selection import train_test_split\n",
    "X_train,X_test,y_train,y_test=train_test_split(X,y,test_size=0.2,random_state=51)"
   ]
  },
  {
   "cell_type": "code",
   "execution_count": 24,
   "metadata": {},
   "outputs": [],
   "source": [
    "from sklearn.linear_model import LinearRegression\n",
    "from sklearn.preprocessing import OneHotEncoder\n",
    "from sklearn.metrics import r2_score\n",
    "from sklearn.compose import make_column_transformer\n",
    "from sklearn.pipeline import make_pipeline"
   ]
  },
  {
   "cell_type": "code",
   "execution_count": 25,
   "metadata": {},
   "outputs": [
    {
     "data": {
      "text/plain": [
       "OneHotEncoder()"
      ]
     },
     "execution_count": 25,
     "metadata": {},
     "output_type": "execute_result"
    }
   ],
   "source": [
    "ohe=OneHotEncoder()\n",
    "ohe.fit(X[[\"Distance(km)\",\"Fuel Type\",\"Manufacturing Year\",\"Make\",\"Model\"]])"
   ]
  },
  {
   "cell_type": "code",
   "execution_count": 26,
   "metadata": {},
   "outputs": [],
   "source": [
    "column_trans=make_column_transformer((OneHotEncoder(categories=ohe.categories_),[\"Distance(km)\",\"Fuel Type\",\"Manufacturing Year\",\"Make\",\"Model\"]),remainder=\"passthrough\")"
   ]
  },
  {
   "cell_type": "code",
   "execution_count": 27,
   "metadata": {},
   "outputs": [],
   "source": [
    "lr=LinearRegression()"
   ]
  },
  {
   "cell_type": "code",
   "execution_count": 28,
   "metadata": {},
   "outputs": [],
   "source": [
    "pipe=make_pipeline(column_trans,lr)"
   ]
  },
  {
   "cell_type": "code",
   "execution_count": 29,
   "metadata": {},
   "outputs": [
    {
     "data": {
      "text/plain": [
       "Pipeline(steps=[('columntransformer',\n",
       "                 ColumnTransformer(remainder='passthrough',\n",
       "                                   transformers=[('onehotencoder',\n",
       "                                                  OneHotEncoder(categories=[array([0.000000e+00, 6.000000e+00, 6.000000e+01, ..., 8.550000e+05,\n",
       "       9.200000e+05, 1.300087e+06]),\n",
       "                                                                            array(['CNG', 'Diesel', 'LPG', 'Petrol', 'diesel', 'petrol', '\\xa0  \\xa0',\n",
       "       '\\xa0 CNG \\xa0', '\\xa0 CNGPetrol \\xa0', '\\xa0 Diesel \\xa0',\n",
       "       '\\xa0 H...\n",
       "       'Mahindra', 'Maruti', 'Maruti ', 'Mercedes-Benz', 'Mini',\n",
       "       'Mitsubishi', 'Nissan', 'Opel', 'Renault', 'Skoda', 'Tata',\n",
       "       'Toyota', 'Volkswagen', 'Volvo'], dtype=object),\n",
       "                                                                            array(['1 Series 116i', '3 Series Convertible 330d',\n",
       "       '3 Series GT 320d GT Luxury Line', ..., 'zen[LXI',\n",
       "       'zen[estilo LXI', 'zen[estilo VXI'], dtype=object)]),\n",
       "                                                  ['Distance(km)', 'Fuel Type',\n",
       "                                                   'Manufacturing Year', 'Make',\n",
       "                                                   'Model'])])),\n",
       "                ('linearregression', LinearRegression())])"
      ]
     },
     "execution_count": 29,
     "metadata": {},
     "output_type": "execute_result"
    }
   ],
   "source": [
    "pipe.fit(X_train,y_train)"
   ]
  },
  {
   "cell_type": "code",
   "execution_count": 30,
   "metadata": {},
   "outputs": [],
   "source": [
    "y_pred=pipe.predict(X_test)"
   ]
  },
  {
   "cell_type": "code",
   "execution_count": 31,
   "metadata": {},
   "outputs": [
    {
     "data": {
      "text/plain": [
       "0.9684512365619553"
      ]
     },
     "execution_count": 31,
     "metadata": {},
     "output_type": "execute_result"
    }
   ],
   "source": [
    "pipe.score(X_test,y_test)"
   ]
  },
  {
   "cell_type": "code",
   "execution_count": 32,
   "metadata": {},
   "outputs": [
    {
     "data": {
      "text/plain": [
       "0.9684512365619553"
      ]
     },
     "execution_count": 32,
     "metadata": {},
     "output_type": "execute_result"
    }
   ],
   "source": [
    "r2_score(y_test,y_pred)"
   ]
  },
  {
   "cell_type": "code",
   "execution_count": 36,
   "metadata": {},
   "outputs": [],
   "source": [
    "import joblib"
   ]
  },
  {
   "cell_type": "code",
   "execution_count": 37,
   "metadata": {},
   "outputs": [],
   "source": [
    "joblib.dump(pipe,open(\"LinearRegressionModel.pkl\",\"wb\"))"
   ]
  },
  {
   "cell_type": "code",
   "execution_count": 39,
   "metadata": {},
   "outputs": [
    {
     "data": {
      "text/plain": [
       "array([689266.95503487])"
      ]
     },
     "execution_count": 39,
     "metadata": {},
     "output_type": "execute_result"
    }
   ],
   "source": [
    "pipe.predict(pd.DataFrame([[20000.0,'Diesel',2014,'Volvo','XC90 D5 AWD']],columns=['Distance(km)','Fuel Type','Manufacturing Year','Make','Model']))"
   ]
  },
  {
   "cell_type": "code",
   "execution_count": null,
   "metadata": {},
   "outputs": [],
   "source": []
  }
 ],
 "metadata": {
  "kernelspec": {
   "display_name": "Python 3",
   "language": "python",
   "name": "python3"
  },
  "language_info": {
   "codemirror_mode": {
    "name": "ipython",
    "version": 3
   },
   "file_extension": ".py",
   "mimetype": "text/x-python",
   "name": "python",
   "nbconvert_exporter": "python",
   "pygments_lexer": "ipython3",
   "version": "3.8.3"
  }
 },
 "nbformat": 4,
 "nbformat_minor": 4
}
